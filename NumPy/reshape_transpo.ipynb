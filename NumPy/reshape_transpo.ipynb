{
 "cells": [
  {
   "cell_type": "code",
   "execution_count": 1,
   "metadata": {},
   "outputs": [],
   "source": [
    "import numpy as np"
   ]
  },
  {
   "cell_type": "markdown",
   "metadata": {},
   "source": [
    "### Transpose"
   ]
  },
  {
   "cell_type": "code",
   "execution_count": 16,
   "metadata": {},
   "outputs": [
    {
     "data": {
      "text/plain": [
       "array([[ 10,  20,  30],\n",
       "       [ 40,  50,  60],\n",
       "       [ 70,  80,  90],\n",
       "       [100, 110, 120]])"
      ]
     },
     "metadata": {},
     "output_type": "display_data"
    },
    {
     "data": {
      "text/plain": [
       "(4, 3)"
      ]
     },
     "metadata": {},
     "output_type": "display_data"
    },
    {
     "data": {
      "text/plain": [
       "array([[ 10,  40,  70, 100],\n",
       "       [ 20,  50,  80, 110],\n",
       "       [ 30,  60,  90, 120]])"
      ]
     },
     "metadata": {},
     "output_type": "display_data"
    },
    {
     "data": {
      "text/plain": [
       "(3, 4)"
      ]
     },
     "metadata": {},
     "output_type": "display_data"
    }
   ],
   "source": [
    "x = np.array([[10, 20, 30], \n",
    "              [40, 50, 60], \n",
    "              [70, 80, 90], \n",
    "              [100, 110, 120]])\n",
    "display(x)\n",
    "display(x.shape) # 4 columns with 3 elements\n",
    "x_transpose = x.T\n",
    "display(x_transpose)\n",
    "display(x_transpose.shape) # 3 columns with 4 elements"
   ]
  },
  {
   "cell_type": "code",
   "execution_count": 23,
   "metadata": {},
   "outputs": [
    {
     "data": {
      "text/plain": [
       "array([[[ 10,  20,  30],\n",
       "        [ 40,  50,  60]],\n",
       "\n",
       "       [[110, 120, 130],\n",
       "        [140, 150, 160]]])"
      ]
     },
     "metadata": {},
     "output_type": "display_data"
    },
    {
     "data": {
      "text/plain": [
       "(2, 2, 3)"
      ]
     },
     "metadata": {},
     "output_type": "display_data"
    },
    {
     "data": {
      "text/plain": [
       "array([[[ 10, 110],\n",
       "        [ 40, 140]],\n",
       "\n",
       "       [[ 20, 120],\n",
       "        [ 50, 150]],\n",
       "\n",
       "       [[ 30, 130],\n",
       "        [ 60, 160]]])"
      ]
     },
     "metadata": {},
     "output_type": "display_data"
    },
    {
     "data": {
      "text/plain": [
       "(3, 2, 2)"
      ]
     },
     "metadata": {},
     "output_type": "display_data"
    }
   ],
   "source": [
    "y = np.array([[[10, 20, 30], \n",
    "               [40, 50, 60]],\n",
    "              \n",
    "              [[110, 120, 130],\n",
    "               [140, 150, 160]],\n",
    "              ])\n",
    "display(y)\n",
    "display(y.shape)\n",
    "y_transpose = y.T\n",
    "display(y_transpose)\n",
    "display(y_transpose.shape)"
   ]
  }
 ],
 "metadata": {
  "kernelspec": {
   "display_name": "Python 3",
   "language": "python",
   "name": "python3"
  },
  "language_info": {
   "codemirror_mode": {
    "name": "ipython",
    "version": 3
   },
   "file_extension": ".py",
   "mimetype": "text/x-python",
   "name": "python",
   "nbconvert_exporter": "python",
   "pygments_lexer": "ipython3",
   "version": "3.11.5"
  }
 },
 "nbformat": 4,
 "nbformat_minor": 2
}
