{
 "cells": [
  {
   "cell_type": "code",
   "execution_count": 56,
   "metadata": {},
   "outputs": [],
   "source": [
    "import numpy as np"
   ]
  },
  {
   "cell_type": "code",
   "execution_count": 57,
   "metadata": {},
   "outputs": [
    {
     "data": {
      "text/plain": [
       "array([[[[ 3, 10,  4, 14,  3],\n",
       "         [ 5,  1, 11,  5,  4],\n",
       "         [18, 10,  2,  6,  7],\n",
       "         [11, 12, 12, 15,  3]],\n",
       "\n",
       "        [[ 2,  7,  3, 18, 13],\n",
       "         [ 1, 19,  7,  5,  5],\n",
       "         [14,  9,  4,  1,  2],\n",
       "         [10,  6,  4,  3, 10]],\n",
       "\n",
       "        [[ 9,  4,  6,  9, 10],\n",
       "         [ 5, 15,  8,  2, 18],\n",
       "         [14, 11,  8, 14,  9],\n",
       "         [ 9, 15,  3,  7,  6]]],\n",
       "\n",
       "\n",
       "       [[[11,  8, 10,  9, 18],\n",
       "         [ 3,  3, 12,  8, 19],\n",
       "         [ 2, 16,  5, 10,  8],\n",
       "         [15,  3,  2,  7,  3]],\n",
       "\n",
       "        [[14,  7,  8,  6,  5],\n",
       "         [18, 14,  4,  6,  4],\n",
       "         [17, 14,  2,  2, 15],\n",
       "         [ 3, 15,  2,  9, 19]],\n",
       "\n",
       "        [[18, 10,  8,  4, 13],\n",
       "         [ 7,  3, 16, 12, 12],\n",
       "         [ 6,  6,  4,  3, 17],\n",
       "         [ 8,  4, 11, 11, 12]]]])"
      ]
     },
     "metadata": {},
     "output_type": "display_data"
    },
    {
     "data": {
      "text/plain": [
       "'\\n2 parent arrays (outermost dimension)\\nEach parent array contains 3 sub-arrays (next dimension)\\nEach sub-array has 4 rows\\nEach row contains 5 elements\\n- from ChatGPT\\n'"
      ]
     },
     "execution_count": 57,
     "metadata": {},
     "output_type": "execute_result"
    }
   ],
   "source": [
    "random_arr = np.random.randint(1, 20, size=(2, 3, 4, 5))\n",
    "display(random_arr)\n",
    "# 2 parent array with 3 sub-array that contains 4 rows with 5 elements\n",
    "'''\n",
    "2 parent arrays (outermost dimension)\n",
    "Each parent array contains 3 sub-arrays (next dimension)\n",
    "Each sub-array has 4 rows\n",
    "Each row contains 5 elements\n",
    "- from ChatGPT\n",
    "'''"
   ]
  },
  {
   "cell_type": "code",
   "execution_count": 58,
   "metadata": {},
   "outputs": [
    {
     "data": {
      "text/plain": [
       "array([[[[ 3, 10,  4, 14,  3],\n",
       "         [ 5,  1, 11,  5,  4],\n",
       "         [18, 10,  2,  6,  7],\n",
       "         [11, 12, 12, 15,  3]],\n",
       "\n",
       "        [[ 2,  7,  3, 18, 13],\n",
       "         [ 1, 19,  7,  5,  5],\n",
       "         [14,  9,  4,  1,  2],\n",
       "         [10,  6,  4,  3, 10]],\n",
       "\n",
       "        [[ 9,  4,  6,  9, 10],\n",
       "         [ 5, 15,  8,  2, 18],\n",
       "         [14, 11,  8, 14,  9],\n",
       "         [ 9, 15,  3,  7,  6]]],\n",
       "\n",
       "\n",
       "       [[[11,  8, 10,  9, 18],\n",
       "         [ 3,  3, 12,  8, 19],\n",
       "         [ 2, 16,  5, 10,  8],\n",
       "         [15,  3,  2,  7,  3]],\n",
       "\n",
       "        [[14,  7,  8,  6,  5],\n",
       "         [18, 14,  4,  6,  4],\n",
       "         [17, 14,  2,  2, 15],\n",
       "         [ 3, 15,  2,  9, 19]],\n",
       "\n",
       "        [[18, 10,  8,  4, 13],\n",
       "         [ 7,  3, 16, 12, 12],\n",
       "         [ 6,  6,  4,  3, 17],\n",
       "         [ 8,  4, 11, 11, 12]]]])"
      ]
     },
     "metadata": {},
     "output_type": "display_data"
    }
   ],
   "source": [
    "display(random_arr)"
   ]
  },
  {
   "cell_type": "code",
   "execution_count": 59,
   "metadata": {},
   "outputs": [
    {
     "data": {
      "text/plain": [
       "array([[[ 3, 10,  4, 14,  3],\n",
       "        [ 5,  1, 11,  5,  4],\n",
       "        [18, 10,  2,  6,  7],\n",
       "        [11, 12, 12, 15,  3]],\n",
       "\n",
       "       [[ 2,  7,  3, 18, 13],\n",
       "        [ 1, 19,  7,  5,  5],\n",
       "        [14,  9,  4,  1,  2],\n",
       "        [10,  6,  4,  3, 10]],\n",
       "\n",
       "       [[ 9,  4,  6,  9, 10],\n",
       "        [ 5, 15,  8,  2, 18],\n",
       "        [14, 11,  8, 14,  9],\n",
       "        [ 9, 15,  3,  7,  6]]])"
      ]
     },
     "metadata": {},
     "output_type": "display_data"
    }
   ],
   "source": [
    "display(random_arr[0])"
   ]
  },
  {
   "cell_type": "code",
   "execution_count": 60,
   "metadata": {},
   "outputs": [
    {
     "data": {
      "text/plain": [
       "array([[[11,  8, 10,  9, 18],\n",
       "        [ 3,  3, 12,  8, 19],\n",
       "        [ 2, 16,  5, 10,  8],\n",
       "        [15,  3,  2,  7,  3]],\n",
       "\n",
       "       [[14,  7,  8,  6,  5],\n",
       "        [18, 14,  4,  6,  4],\n",
       "        [17, 14,  2,  2, 15],\n",
       "        [ 3, 15,  2,  9, 19]],\n",
       "\n",
       "       [[18, 10,  8,  4, 13],\n",
       "        [ 7,  3, 16, 12, 12],\n",
       "        [ 6,  6,  4,  3, 17],\n",
       "        [ 8,  4, 11, 11, 12]]])"
      ]
     },
     "metadata": {},
     "output_type": "display_data"
    }
   ],
   "source": [
    "display(random_arr[1])"
   ]
  },
  {
   "cell_type": "code",
   "execution_count": 61,
   "metadata": {},
   "outputs": [
    {
     "data": {
      "text/plain": [
       "array([[ 3, 10,  4, 14,  3],\n",
       "       [ 5,  1, 11,  5,  4],\n",
       "       [18, 10,  2,  6,  7],\n",
       "       [11, 12, 12, 15,  3]])"
      ]
     },
     "metadata": {},
     "output_type": "display_data"
    }
   ],
   "source": [
    "display(random_arr[0][0])"
   ]
  },
  {
   "cell_type": "code",
   "execution_count": 62,
   "metadata": {},
   "outputs": [
    {
     "data": {
      "text/plain": [
       "array([[ 2,  7,  3, 18, 13],\n",
       "       [ 1, 19,  7,  5,  5],\n",
       "       [14,  9,  4,  1,  2],\n",
       "       [10,  6,  4,  3, 10]])"
      ]
     },
     "metadata": {},
     "output_type": "display_data"
    }
   ],
   "source": [
    "display(random_arr[0][1])"
   ]
  },
  {
   "cell_type": "code",
   "execution_count": 63,
   "metadata": {},
   "outputs": [
    {
     "data": {
      "text/plain": [
       "array([[ 9,  4,  6,  9, 10],\n",
       "       [ 5, 15,  8,  2, 18],\n",
       "       [14, 11,  8, 14,  9],\n",
       "       [ 9, 15,  3,  7,  6]])"
      ]
     },
     "metadata": {},
     "output_type": "display_data"
    }
   ],
   "source": [
    "display(random_arr[0][2])"
   ]
  },
  {
   "cell_type": "markdown",
   "metadata": {},
   "source": [
    "### The number of indices determines which part of the array we want to access"
   ]
  },
  {
   "cell_type": "code",
   "execution_count": 65,
   "metadata": {},
   "outputs": [
    {
     "data": {
      "text/plain": [
       "3"
      ]
     },
     "metadata": {},
     "output_type": "display_data"
    }
   ],
   "source": [
    "display(random_arr[0][0][0][0])\n",
    "# If we want to display a single element from the array, then it needs to match the length of shape which is 4"
   ]
  },
  {
   "cell_type": "code",
   "execution_count": 67,
   "metadata": {},
   "outputs": [
    {
     "data": {
      "text/plain": [
       "array([ 3, 10,  4, 14,  3])"
      ]
     },
     "metadata": {},
     "output_type": "display_data"
    }
   ],
   "source": [
    "display(random_arr[0][0][0])"
   ]
  },
  {
   "cell_type": "code",
   "execution_count": 68,
   "metadata": {},
   "outputs": [
    {
     "data": {
      "text/plain": [
       "array([[ 3, 10,  4, 14,  3],\n",
       "       [ 5,  1, 11,  5,  4],\n",
       "       [18, 10,  2,  6,  7],\n",
       "       [11, 12, 12, 15,  3]])"
      ]
     },
     "metadata": {},
     "output_type": "display_data"
    }
   ],
   "source": [
    "display(random_arr[0][0])"
   ]
  },
  {
   "cell_type": "code",
   "execution_count": 69,
   "metadata": {},
   "outputs": [
    {
     "data": {
      "text/plain": [
       "array([[[ 3, 10,  4, 14,  3],\n",
       "        [ 5,  1, 11,  5,  4],\n",
       "        [18, 10,  2,  6,  7],\n",
       "        [11, 12, 12, 15,  3]],\n",
       "\n",
       "       [[ 2,  7,  3, 18, 13],\n",
       "        [ 1, 19,  7,  5,  5],\n",
       "        [14,  9,  4,  1,  2],\n",
       "        [10,  6,  4,  3, 10]],\n",
       "\n",
       "       [[ 9,  4,  6,  9, 10],\n",
       "        [ 5, 15,  8,  2, 18],\n",
       "        [14, 11,  8, 14,  9],\n",
       "        [ 9, 15,  3,  7,  6]]])"
      ]
     },
     "metadata": {},
     "output_type": "display_data"
    }
   ],
   "source": [
    "display(random_arr[0])"
   ]
  }
 ],
 "metadata": {
  "kernelspec": {
   "display_name": "Python 3",
   "language": "python",
   "name": "python3"
  },
  "language_info": {
   "codemirror_mode": {
    "name": "ipython",
    "version": 3
   },
   "file_extension": ".py",
   "mimetype": "text/x-python",
   "name": "python",
   "nbconvert_exporter": "python",
   "pygments_lexer": "ipython3",
   "version": "3.11.5"
  }
 },
 "nbformat": 4,
 "nbformat_minor": 2
}
