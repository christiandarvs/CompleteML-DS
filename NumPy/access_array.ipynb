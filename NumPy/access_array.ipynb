{
 "cells": [
  {
   "cell_type": "code",
   "execution_count": 1,
   "metadata": {},
   "outputs": [],
   "source": [
    "import numpy as np"
   ]
  },
  {
   "cell_type": "code",
   "execution_count": 2,
   "metadata": {},
   "outputs": [
    {
     "data": {
      "text/plain": [
       "array([[[[ 3, 15, 18,  6,  7],\n",
       "         [ 2, 15,  2,  7,  5],\n",
       "         [ 2, 14,  9,  9, 15],\n",
       "         [17, 10, 17,  5,  2]],\n",
       "\n",
       "        [[ 6, 11,  9, 18,  5],\n",
       "         [ 6,  4, 11, 19,  5],\n",
       "         [ 7,  2, 12, 14,  3],\n",
       "         [ 2, 18,  5,  9,  8]],\n",
       "\n",
       "        [[18, 15,  2,  2,  3],\n",
       "         [13, 12,  4,  6,  8],\n",
       "         [ 9, 17, 14, 17,  7],\n",
       "         [ 5, 19,  9, 12,  8]]],\n",
       "\n",
       "\n",
       "       [[[14,  4, 10,  3, 14],\n",
       "         [ 4, 16,  6,  8, 10],\n",
       "         [16, 14, 19, 11, 11],\n",
       "         [ 7, 12,  2, 16, 10]],\n",
       "\n",
       "        [[11,  3, 13,  5, 13],\n",
       "         [11, 18, 12, 17, 18],\n",
       "         [14,  7,  6,  3, 19],\n",
       "         [ 5, 15, 12,  8,  8]],\n",
       "\n",
       "        [[ 8,  5,  1, 18, 15],\n",
       "         [ 3,  9, 14, 17, 11],\n",
       "         [17,  4,  8, 18, 12],\n",
       "         [18,  9,  4,  6, 18]]]])"
      ]
     },
     "metadata": {},
     "output_type": "display_data"
    },
    {
     "data": {
      "text/plain": [
       "'\\n2 parent arrays (outermost dimension)\\nEach parent array contains 3 sub-arrays (next dimension)\\nEach sub-array has 4 rows\\nEach row contains 5 elements\\n- from ChatGPT\\n'"
      ]
     },
     "execution_count": 2,
     "metadata": {},
     "output_type": "execute_result"
    }
   ],
   "source": [
    "random_arr = np.random.randint(1, 20, size=(2, 3, 4, 5))\n",
    "display(random_arr)\n",
    "# 2 parent array with 3 sub-array that contains 4 rows with 5 elements\n",
    "'''\n",
    "2 parent arrays (outermost dimension)\n",
    "Each parent array contains 3 sub-arrays (next dimension)\n",
    "Each sub-array has 4 rows\n",
    "Each row contains 5 elements\n",
    "- from ChatGPT\n",
    "'''"
   ]
  },
  {
   "cell_type": "code",
   "execution_count": 3,
   "metadata": {},
   "outputs": [
    {
     "data": {
      "text/plain": [
       "array([[[[ 3, 15, 18,  6,  7],\n",
       "         [ 2, 15,  2,  7,  5],\n",
       "         [ 2, 14,  9,  9, 15],\n",
       "         [17, 10, 17,  5,  2]],\n",
       "\n",
       "        [[ 6, 11,  9, 18,  5],\n",
       "         [ 6,  4, 11, 19,  5],\n",
       "         [ 7,  2, 12, 14,  3],\n",
       "         [ 2, 18,  5,  9,  8]],\n",
       "\n",
       "        [[18, 15,  2,  2,  3],\n",
       "         [13, 12,  4,  6,  8],\n",
       "         [ 9, 17, 14, 17,  7],\n",
       "         [ 5, 19,  9, 12,  8]]],\n",
       "\n",
       "\n",
       "       [[[14,  4, 10,  3, 14],\n",
       "         [ 4, 16,  6,  8, 10],\n",
       "         [16, 14, 19, 11, 11],\n",
       "         [ 7, 12,  2, 16, 10]],\n",
       "\n",
       "        [[11,  3, 13,  5, 13],\n",
       "         [11, 18, 12, 17, 18],\n",
       "         [14,  7,  6,  3, 19],\n",
       "         [ 5, 15, 12,  8,  8]],\n",
       "\n",
       "        [[ 8,  5,  1, 18, 15],\n",
       "         [ 3,  9, 14, 17, 11],\n",
       "         [17,  4,  8, 18, 12],\n",
       "         [18,  9,  4,  6, 18]]]])"
      ]
     },
     "metadata": {},
     "output_type": "display_data"
    }
   ],
   "source": [
    "display(random_arr)"
   ]
  },
  {
   "cell_type": "code",
   "execution_count": 4,
   "metadata": {},
   "outputs": [
    {
     "data": {
      "text/plain": [
       "array([[[ 3, 15, 18,  6,  7],\n",
       "        [ 2, 15,  2,  7,  5],\n",
       "        [ 2, 14,  9,  9, 15],\n",
       "        [17, 10, 17,  5,  2]],\n",
       "\n",
       "       [[ 6, 11,  9, 18,  5],\n",
       "        [ 6,  4, 11, 19,  5],\n",
       "        [ 7,  2, 12, 14,  3],\n",
       "        [ 2, 18,  5,  9,  8]],\n",
       "\n",
       "       [[18, 15,  2,  2,  3],\n",
       "        [13, 12,  4,  6,  8],\n",
       "        [ 9, 17, 14, 17,  7],\n",
       "        [ 5, 19,  9, 12,  8]]])"
      ]
     },
     "metadata": {},
     "output_type": "display_data"
    }
   ],
   "source": [
    "display(random_arr[0])"
   ]
  },
  {
   "cell_type": "code",
   "execution_count": 5,
   "metadata": {},
   "outputs": [
    {
     "data": {
      "text/plain": [
       "array([[[14,  4, 10,  3, 14],\n",
       "        [ 4, 16,  6,  8, 10],\n",
       "        [16, 14, 19, 11, 11],\n",
       "        [ 7, 12,  2, 16, 10]],\n",
       "\n",
       "       [[11,  3, 13,  5, 13],\n",
       "        [11, 18, 12, 17, 18],\n",
       "        [14,  7,  6,  3, 19],\n",
       "        [ 5, 15, 12,  8,  8]],\n",
       "\n",
       "       [[ 8,  5,  1, 18, 15],\n",
       "        [ 3,  9, 14, 17, 11],\n",
       "        [17,  4,  8, 18, 12],\n",
       "        [18,  9,  4,  6, 18]]])"
      ]
     },
     "metadata": {},
     "output_type": "display_data"
    }
   ],
   "source": [
    "display(random_arr[1])"
   ]
  },
  {
   "cell_type": "code",
   "execution_count": 6,
   "metadata": {},
   "outputs": [
    {
     "data": {
      "text/plain": [
       "array([[ 3, 15, 18,  6,  7],\n",
       "       [ 2, 15,  2,  7,  5],\n",
       "       [ 2, 14,  9,  9, 15],\n",
       "       [17, 10, 17,  5,  2]])"
      ]
     },
     "metadata": {},
     "output_type": "display_data"
    }
   ],
   "source": [
    "display(random_arr[0][0])"
   ]
  },
  {
   "cell_type": "code",
   "execution_count": 7,
   "metadata": {},
   "outputs": [
    {
     "data": {
      "text/plain": [
       "array([[ 6, 11,  9, 18,  5],\n",
       "       [ 6,  4, 11, 19,  5],\n",
       "       [ 7,  2, 12, 14,  3],\n",
       "       [ 2, 18,  5,  9,  8]])"
      ]
     },
     "metadata": {},
     "output_type": "display_data"
    }
   ],
   "source": [
    "display(random_arr[0][1])"
   ]
  },
  {
   "cell_type": "code",
   "execution_count": 8,
   "metadata": {},
   "outputs": [
    {
     "data": {
      "text/plain": [
       "array([[18, 15,  2,  2,  3],\n",
       "       [13, 12,  4,  6,  8],\n",
       "       [ 9, 17, 14, 17,  7],\n",
       "       [ 5, 19,  9, 12,  8]])"
      ]
     },
     "metadata": {},
     "output_type": "display_data"
    }
   ],
   "source": [
    "display(random_arr[0][2])"
   ]
  },
  {
   "cell_type": "markdown",
   "metadata": {},
   "source": [
    "### The number of indices determines which part of the array we want to access"
   ]
  },
  {
   "cell_type": "code",
   "execution_count": 9,
   "metadata": {},
   "outputs": [
    {
     "data": {
      "text/plain": [
       "3"
      ]
     },
     "metadata": {},
     "output_type": "display_data"
    }
   ],
   "source": [
    "display(random_arr[0][0][0][0])\n",
    "# If we want to display a single element from the array, then it needs to match the length of shape which is 4"
   ]
  },
  {
   "cell_type": "code",
   "execution_count": 10,
   "metadata": {},
   "outputs": [
    {
     "data": {
      "text/plain": [
       "array([ 3, 15, 18,  6,  7])"
      ]
     },
     "metadata": {},
     "output_type": "display_data"
    }
   ],
   "source": [
    "display(random_arr[0][0][0])"
   ]
  },
  {
   "cell_type": "code",
   "execution_count": 11,
   "metadata": {},
   "outputs": [
    {
     "data": {
      "text/plain": [
       "array([[ 3, 15, 18,  6,  7],\n",
       "       [ 2, 15,  2,  7,  5],\n",
       "       [ 2, 14,  9,  9, 15],\n",
       "       [17, 10, 17,  5,  2]])"
      ]
     },
     "metadata": {},
     "output_type": "display_data"
    }
   ],
   "source": [
    "display(random_arr[0][0])"
   ]
  },
  {
   "cell_type": "code",
   "execution_count": 12,
   "metadata": {},
   "outputs": [
    {
     "data": {
      "text/plain": [
       "array([[[ 3, 15, 18,  6,  7],\n",
       "        [ 2, 15,  2,  7,  5],\n",
       "        [ 2, 14,  9,  9, 15],\n",
       "        [17, 10, 17,  5,  2]],\n",
       "\n",
       "       [[ 6, 11,  9, 18,  5],\n",
       "        [ 6,  4, 11, 19,  5],\n",
       "        [ 7,  2, 12, 14,  3],\n",
       "        [ 2, 18,  5,  9,  8]],\n",
       "\n",
       "       [[18, 15,  2,  2,  3],\n",
       "        [13, 12,  4,  6,  8],\n",
       "        [ 9, 17, 14, 17,  7],\n",
       "        [ 5, 19,  9, 12,  8]]])"
      ]
     },
     "metadata": {},
     "output_type": "display_data"
    }
   ],
   "source": [
    "display(random_arr[0])"
   ]
  }
 ],
 "metadata": {
  "kernelspec": {
   "display_name": "Python 3",
   "language": "python",
   "name": "python3"
  },
  "language_info": {
   "codemirror_mode": {
    "name": "ipython",
    "version": 3
   },
   "file_extension": ".py",
   "mimetype": "text/x-python",
   "name": "python",
   "nbconvert_exporter": "python",
   "pygments_lexer": "ipython3",
   "version": "3.11.5"
  }
 },
 "nbformat": 4,
 "nbformat_minor": 2
}
